{
 "cells": [
  {
   "cell_type": "markdown",
   "metadata": {},
   "source": [
    "# 5 R-Tree"
   ]
  },
  {
   "cell_type": "markdown",
   "metadata": {},
   "source": [
    "## a)\n",
    "How large is an R-Tree that stores 1.000, 100.000, 1.000.000, 10.000.000, 1.000.000.000 objects.\n",
    "Assume parameters M = 400 and m = 200 for your calculations. Derive the results by calculating the MBRs that can be stored on each level of the tree."
   ]
  },
  {
   "cell_type": "markdown",
   "metadata": {},
   "source": [
    "$$ treeHeight(N entries) <= ceil(log_m N) - 1 $$\n",
    "\n",
    "| | 1.000 | 1.000.000 | 10.000.000 | 1.000.000.000 |\n",
    "|-|-------|-----------|------------|---------------|\n",
    "| Min #nodes M = 400 | 1 | 2 | 2 | 3 |\n",
    "| Max #nodes m = 200 | 1 | 2 | 3 | 3 |"
   ]
  },
  {
   "cell_type": "markdown",
   "metadata": {},
   "source": [
    "## b)\n",
    "\n",
    "Provide the order of nodes that need to be checked for a 2-NN query on the following R-Tree (as given in the lecture). Please discuss possible alternative options in processing the MBRs during the query processing. Provide two alternative lists of accessed MBRs, compare these two alternatives, and discuss how one could guide the query processing during search."
   ]
  },
  {
   "cell_type": "markdown",
   "metadata": {},
   "source": [
    "R2 > R1 > R4 > R11  > R12 > R6 > R16\n",
    "\n",
    "\n",
    "**Alternatives**: Bruteforce, Breadth-first search"
   ]
  }
 ],
 "metadata": {
  "kernelspec": {
   "display_name": "Python 3",
   "language": "python",
   "name": "python3"
  },
  "language_info": {
   "codemirror_mode": {
    "name": "ipython",
    "version": 3
   },
   "file_extension": ".py",
   "mimetype": "text/x-python",
   "name": "python",
   "nbconvert_exporter": "python",
   "pygments_lexer": "ipython3",
   "version": "3.5.1"
  }
 },
 "nbformat": 4,
 "nbformat_minor": 0
}
