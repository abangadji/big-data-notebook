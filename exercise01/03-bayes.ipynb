{
 "cells": [
  {
   "cell_type": "markdown",
   "metadata": {},
   "source": [
    "# 3 Bayes\n",
    "\n",
    "Prove the following equation with the help of the definition of conditional probabilities:\n",
    "\n",
    "$$ p(o) * p(c_j \\mid o) = p(o \\mid c_j) * p(c_j) $$"
   ]
  },
  {
   "cell_type": "markdown",
   "metadata": {},
   "source": [
    "Bayes' theorem: $ p(a \\mid b) = \\frac{p(a) * p(b \\mid a)}{p(b)} $\n",
    "\n",
    "\n",
    "$$\n",
    "p(o) * p(c \\mid o) = p(o) * \\frac{p(c) * p(o \\mid c)}{p(o)} = p(c) * p(o \\mid c)\n",
    "$$"
   ]
  }
 ],
 "metadata": {
  "kernelspec": {
   "display_name": "Python 3",
   "language": "python",
   "name": "python3"
  },
  "language_info": {
   "codemirror_mode": {
    "name": "ipython",
    "version": 3
   },
   "file_extension": ".py",
   "mimetype": "text/x-python",
   "name": "python",
   "nbconvert_exporter": "python",
   "pygments_lexer": "ipython3",
   "version": "3.5.1"
  }
 },
 "nbformat": 4,
 "nbformat_minor": 0
}
