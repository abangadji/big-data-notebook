{
 "cells": [
  {
   "cell_type": "markdown",
   "metadata": {},
   "source": [
    "# 1 KDD process\n",
    "\n",
    "Call the steps of the KDD process and their primary objectives."
   ]
  },
  {
   "cell_type": "markdown",
   "metadata": {},
   "source": [
    "![KDD-Process](http://i.imgur.com/Jl5Ychl.png)"
   ]
  },
  {
   "cell_type": "markdown",
   "metadata": {},
   "source": [
    "**Data Cleaning & Integration**\n",
    "- merge and integrate data from different sources\n",
    "- computation of missing values(if necessary)\n",
    "\n",
    "**Focusing on task relevant data**\n",
    "- Find useful features, dimensionality reduction, invariant representation by using selections, projections and transformations\n",
    "\n",
    "**Basic Data Mining Tasks**\n",
    "- searching for patterns of interest(clustering, classification, frequent patterns)\n",
    "\n",
    "**Evaluation and visualization**\n",
    "- enable understanding of found patterns and allow to prove used methods\n"
   ]
  }
 ],
 "metadata": {
  "kernelspec": {
   "display_name": "Python 3",
   "language": "python",
   "name": "python3"
  },
  "language_info": {
   "codemirror_mode": {
    "name": "ipython",
    "version": 3
   },
   "file_extension": ".py",
   "mimetype": "text/x-python",
   "name": "python",
   "nbconvert_exporter": "python",
   "pygments_lexer": "ipython3",
   "version": "3.5.1"
  }
 },
 "nbformat": 4,
 "nbformat_minor": 0
}
