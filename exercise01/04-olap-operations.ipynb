{
 "cells": [
  {
   "cell_type": "markdown",
   "metadata": {},
   "source": [
    "# 4 OLAP Operations (SQL)\n",
    "\n",
    "Given the following example database of product sales consisting of\n",
    "\n",
    "1. a fact table for product sales (transactionID is the key for this table) containing information about the date, the sold product, the city and the number of sold products,\n",
    "2. a dimension table with information about cities and their corresponding state and country (city is the key for this table),\n",
    "3. a dimension table with information about products (productID is the key for this table) and\n",
    "4. a dimension table with information about dates (this would not be done like this in the “real world”, but we nevertheless introduce this table…)."
   ]
  },
  {
   "cell_type": "markdown",
   "metadata": {},
   "source": [
    "## a)\n",
    "\n",
    "Draw the star schema for this databse"
   ]
  },
  {
   "cell_type": "markdown",
   "metadata": {},
   "source": [
    "```\n",
    "[product]----[sales]----[location]\n",
    "                |\n",
    "              [date]\n",
    "```"
   ]
  },
  {
   "cell_type": "markdown",
   "metadata": {},
   "source": [
    "## b)\n",
    "Write the following queries in SQL\n",
    "\n",
    "**a.** show the aggregated product sales for each product, country and day\n",
    "```sql\n",
    "SELECT productName, country, day, SUM(no_of_products) \n",
    "FROM sales, product, location, date\n",
    "  WHERE sales.productID = product.productID\n",
    "    AND sales.day = date.day\n",
    "    AND sales.city = location.city\n",
    "  GROUP BY productName, country, day\n",
    "```\n",
    "\n",
    "**b.** show the aggregated product sales for each product, country and month\n",
    "```sql\n",
    "SELECT productName, country, month, SUM(no_of_products)\n",
    "FROM sales, product, location, date\n",
    "  WHERE sales.productID = product.productID\n",
    "    AND sales.day = date.day\n",
    "    AND sales.city = location.city\n",
    "  GROUP BY productName, country, month\n",
    "```\n",
    "\n",
    "**c.** show the aggregated product sales for each product, country and quarter\n",
    "```sql\n",
    "SELECT productName, country, quarter, SUM(no_of_products) \n",
    "FROM sales, product, location, date\n",
    "  WHERE sales.productID = product.productID\n",
    "    AND sales.day = date.day\n",
    "    AND sales.city = location.city\n",
    "GROUP BY productName, country, quarter\n",
    "```\n",
    "\n",
    "**d.** show the aggregated product sales for each product, country and year\n",
    "```sql\n",
    "SELECT productName, country, year, SUM(no_of_products)\n",
    "FROM sales, product, location, date\n",
    "  WHERE sales.productID = product.productID\n",
    "    AND sales.day = date.day\n",
    "    AND sales.city = location.city\n",
    "GROUP BY productName, country, year\n",
    "```\n",
    "\n",
    "**e.** show the aggregated product sales for each product, state and day\n",
    "```sql\n",
    "SELECT productName, state, day, SUM(no_of_products) \n",
    "FROM sales, product, location, date\n",
    "  WHERE sales.productID = product.productID\n",
    "    AND sales.day = date.day\n",
    "    AND sales.city = location.city\n",
    "GROUP BY productName, state, day\n",
    "```\n",
    "\n",
    "**f.** show the aggregated product sales for each product, city and day\n",
    "```sql\n",
    "SELECT productName, city, day FROM sales, product, location, date\n",
    "  WHERE sales.productID = product.productID\n",
    "    AND sales.day = date.day\n",
    "    AND sales.city = location.city\n",
    "GROUP BY productName, city, day\n",
    "```\n",
    "\n",
    "**g.** show the product sales for product P5 and P10\n",
    "```sql\n",
    "SELECT * FROM sales WHERE productID = 'P5' OR productID = 'P10'\n",
    "```\n",
    "\n",
    "**h.** show the product sales for Canada\n",
    "```sql\n",
    "SELECT * FROM sales, location WHERE sales.city = location.city AND location.country = 'CANADA';\n",
    "```\n",
    "\n",
    "**i.** show the product sales for product P10 and Miami\n",
    "```sql\n",
    "SELECT * FROM sales WHERE productId = 'P10' AND city = 'Miami'\n",
    "```"
   ]
  },
  {
   "cell_type": "markdown",
   "metadata": {},
   "source": [
    "## c)\n",
    "\n",
    "Specify the OLAP operations of part b).\n",
    "\n",
    "**a.** Roll up\n",
    "\n",
    "**b.** Roll up\n",
    "\n",
    "**c.** Roll up\n",
    "\n",
    "**d.** Roll up\n",
    "\n",
    "**e.** Roll up\n",
    "\n",
    "**f.**  Roll up\n",
    "\n",
    "**g.** Slice (only one dimension)\n",
    "\n",
    "**h.** Slice\n",
    "\n",
    "**i.**  Dice"
   ]
  }
 ],
 "metadata": {
  "kernelspec": {
   "display_name": "Python 3",
   "language": "python",
   "name": "python3"
  },
  "language_info": {
   "codemirror_mode": {
    "name": "ipython",
    "version": 3
   },
   "file_extension": ".py",
   "mimetype": "text/x-python",
   "name": "python",
   "nbconvert_exporter": "python",
   "pygments_lexer": "ipython3",
   "version": "3.5.1"
  }
 },
 "nbformat": 4,
 "nbformat_minor": 0
}
