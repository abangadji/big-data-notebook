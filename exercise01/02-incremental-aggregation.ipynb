{
 "cells": [
  {
   "cell_type": "markdown",
   "metadata": {},
   "source": [
    "# 2 Incremental Aggregation\n",
    "\n",
    "Are the following measures algebraic, holistic or distributive? Provide a detailed reasoning (computation rule or formal proof) for your answer.\n",
    "\n",
    "1. Average value\n",
    "2. Standard deviation\n",
    "3. Mode"
   ]
  },
  {
   "cell_type": "markdown",
   "metadata": {},
   "source": [
    "## 1.\n",
    "\n",
    "$$\n",
    "\\begin{align*}\n",
    "avg(D1 \\cup D2) &= sum(D1 \\cup D2) \\; / \\; count(D1 \\cup D2) \\\\\n",
    "&= (sum(D1) + sum(D2)) \\; / \\; ((count(D1) + count(D2))\n",
    "\\end{align*}\n",
    "$$"
   ]
  },
  {
   "cell_type": "markdown",
   "metadata": {},
   "source": [
    "## 2.\n",
    "\n",
    "$$\n",
    "\\begin{align*}\n",
    "dev &= \\sqrt{ \\frac{1}{n-1} \\sum_{x \\in M} (x - \\overline{x})^2 } \\\\\n",
    "&= \\sqrt{ \\frac{1}{n-1} \\sum_{} x^2 - \\frac{1}{n} (\\sum_{} x)^2 } \\\\\n",
    "\\sum_{} x_i^2 &= (n 1) * s_x^2 + n (\\overline{x})^2 \\\\\n",
    "\\sum_{} y_i^2 &= (m-1) * s_y^2 + m (\\overline{y})^2 \\\\\n",
    "s_x^2 &= \\frac{1}{n-1} ( \\sum_{} x_i^2 - n (\\overline{x})^2 ) \\\\\n",
    "s^2 &= \\frac{1}{n+m-1}((n-1) * s_x^2 + (m-1) * s_y^2  + nx^2 + my^2 - (n+m)(\\overline{z})^2 \\\\\n",
    "\\overline{z} &= \\frac{n \\overline{x} + m + \\overline{y}}{n + m}\n",
    "\\end{align*}\n",
    "$$"
   ]
  },
  {
   "cell_type": "markdown",
   "metadata": {},
   "source": [
    "## 3.\n",
    "\n",
    "Proof by contradiction..."
   ]
  }
 ],
 "metadata": {
  "kernelspec": {
   "display_name": "Python 3",
   "language": "python",
   "name": "python3"
  },
  "language_info": {
   "codemirror_mode": {
    "name": "ipython",
    "version": 3
   },
   "file_extension": ".py",
   "mimetype": "text/x-python",
   "name": "python",
   "nbconvert_exporter": "python",
   "pygments_lexer": "ipython3",
   "version": "3.5.1"
  }
 },
 "nbformat": 4,
 "nbformat_minor": 0
}
