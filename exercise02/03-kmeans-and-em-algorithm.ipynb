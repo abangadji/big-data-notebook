{
 "cells": [
  {
   "cell_type": "code",
   "execution_count": 1,
   "metadata": {
    "collapsed": true
   },
   "outputs": [],
   "source": [
    "import matplotlib.pyplot as plt\n",
    "import numpy as np\n",
    "import math\n",
    "%matplotlib inline"
   ]
  },
  {
   "cell_type": "markdown",
   "metadata": {},
   "source": [
    "Consider the data and its initial partitions depicted below:"
   ]
  },
  {
   "cell_type": "code",
   "execution_count": 5,
   "metadata": {
    "collapsed": false
   },
   "outputs": [
    {
     "data": {
      "image/png": "[encoded data removed]",
      "text/plain": [
       "<matplotlib.figure.Figure at 0x7f958930b780>"
      ]
     },
     "metadata": {},
     "output_type": "display_data"
    }
   ],
   "source": [
    "points = np.array([[3, 8], [4, 7], [3, 6], [3, 4],\n",
    "                   [4, 5], [5, 5], [5, 2], [8, 4], [9, 4], [9, 1]])\n",
    "partitions = np.array([0, 0, 0, 0, 1, 1, 1, 1, 1, 1])\n",
    "\n",
    "colors = partitions / partitions.max()\n",
    "plt.axis([0, 10, 0, 10])\n",
    "plt.scatter(points[:, 0], points[:, 1], c=colors, s=100)\n",
    "plt.show()"
   ]
  },
  {
   "cell_type": "markdown",
   "metadata": {},
   "source": [
    "## a)\n",
    "Apply the k-Means algorithm to find two clusters. Use the Manhattan distance as metric and\n",
    "give the clustering results after each iteration of the algorithm, including the coordinates of the\n",
    "cluster means."
   ]
  },
  {
   "cell_type": "code",
   "execution_count": 10,
   "metadata": {
    "collapsed": true
   },
   "outputs": [],
   "source": [
    "def plot(data, classes, centers):\n",
    "    colors = classes / classes.max()\n",
    "    plt.clf()\n",
    "    plt.axis([0, 10, 0, 10])\n",
    "    plt.scatter(data[:, 0], data[:, 1], c=colors, s=100)\n",
    "    plt.scatter(centers[:, 0], centers[:, 1], marker='x', s=1000)\n",
    "    plt.show()\n",
    "\n",
    "\n",
    "def log(data, classes, centers):\n",
    "    print('Points:')\n",
    "    for index, point in enumerate(data):\n",
    "        print('p: {0} | c: {1}'.format(point, classes[index]))\n",
    "    print('\\nCenters:\\n', centers)\n",
    "    print('\\n=============\\n')\n",
    "\n",
    "\n",
    "def get_distances(points, centers):\n",
    "    return np.sum(np.absolute(points[:, :, None] - centers.T[None, :, :]), axis=1)\n",
    "\n",
    "\n",
    "def get_centers(points, assignment, k):\n",
    "    centers = np.zeros((k, 2))\n",
    "    for index, _ in enumerate(centers):\n",
    "        mask = (assignment == index)\n",
    "        centers[index] = np.mean(points[mask, :], axis=0)\n",
    "    return centers\n",
    "\n",
    "\n",
    "def kmeans(data, k):\n",
    "    centers = 10 * np.random.rand(k, 2)\n",
    "    previous_assignment = np.zeros(len(data))\n",
    "\n",
    "    # Initial assignment for this task\n",
    "    assignment = np.array([0, 0, 0, 0, 1, 1, 1, 1, 1, 1])\n",
    "    centers = get_centers(data, assignment, k)\n",
    "    log(data, assignment, centers)\n",
    "\n",
    "    while True:\n",
    "        distances = get_distances(data, centers)\n",
    "        assignment = np.argmin(distances, axis=1)\n",
    "        if np.array_equal(previous_assignment, assignment):\n",
    "            break\n",
    "        centers = get_centers(data, assignment, k)\n",
    "        previous_assignment = assignment\n",
    "        log(data, assignment, centers)\n",
    "\n",
    "    return assignment, centers"
   ]
  },
  {
   "cell_type": "code",
   "execution_count": 11,
   "metadata": {
    "collapsed": false
   },
   "outputs": [
    {
     "name": "stdout",
     "output_type": "stream",
     "text": [
      "Points:\n",
      "p: [3 8] | c: 0\n",
      "p: [4 7] | c: 0\n",
      "p: [3 6] | c: 0\n",
      "p: [3 4] | c: 0\n",
      "p: [4 5] | c: 1\n",
      "p: [5 5] | c: 1\n",
      "p: [5 2] | c: 1\n",
      "p: [8 4] | c: 1\n",
      "p: [9 4] | c: 1\n",
      "p: [9 1] | c: 1\n",
      "\n",
      "Centers:\n",
      " [[ 3.25        6.25      ]\n",
      " [ 6.66666667  3.5       ]]\n",
      "\n",
      "=============\n",
      "\n",
      "Points:\n",
      "p: [3 8] | c: 0\n",
      "p: [4 7] | c: 0\n",
      "p: [3 6] | c: 0\n",
      "p: [3 4] | c: 0\n",
      "p: [4 5] | c: 0\n",
      "p: [5 5] | c: 0\n",
      "p: [5 2] | c: 1\n",
      "p: [8 4] | c: 1\n",
      "p: [9 4] | c: 1\n",
      "p: [9 1] | c: 1\n",
      "\n",
      "Centers:\n",
      " [[ 3.66666667  5.83333333]\n",
      " [ 7.75        2.75      ]]\n",
      "\n",
      "=============\n",
      "\n"
     ]
    },
    {
     "data": {
      "image/png": "[encoded data removed]",
      "text/plain": [
       "<matplotlib.figure.Figure at 0x7f95892a0e10>"
      ]
     },
     "metadata": {},
     "output_type": "display_data"
    }
   ],
   "source": [
    "classes, centers = kmeans(points, k=2)\n",
    "plot(points, classes, centers)"
   ]
  },
  {
   "cell_type": "markdown",
   "metadata": {},
   "source": [
    "---\n",
    "\n",
    "## b)\n",
    "k-Means is often used to find initial parameters for a Gaussian Mixture Model (GMM) clustering.\n",
    "These parameters are then refined with the EM algorithm. Determine the initial GMM parameters\n",
    "$π1$, $µ1$, $Σ1$ and $π2$, $µ2$, $Σ2$ for the two clusters C1 and C2 obtained in (a)."
   ]
  }
 ],
 "metadata": {
  "kernelspec": {
   "display_name": "Python 3",
   "language": "python",
   "name": "python3"
  },
  "language_info": {
   "codemirror_mode": {
    "name": "ipython",
    "version": 3
   },
   "file_extension": ".py",
   "mimetype": "text/x-python",
   "name": "python",
   "nbconvert_exporter": "python",
   "pygments_lexer": "ipython3",
   "version": "3.5.0"
  }
 },
 "nbformat": 4,
 "nbformat_minor": 0
}
