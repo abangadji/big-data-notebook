{
 "cells": [
  {
   "cell_type": "code",
   "execution_count": 31,
   "metadata": {
    "collapsed": true
   },
   "outputs": [],
   "source": [
    "import matplotlib.pyplot as plt\n",
    "import numpy as np\n",
    "%matplotlib inline"
   ]
  },
  {
   "cell_type": "markdown",
   "metadata": {},
   "source": [
    "Given the following two-dimensional data set:"
   ]
  },
  {
   "cell_type": "code",
   "execution_count": 39,
   "metadata": {
    "collapsed": false
   },
   "outputs": [
    {
     "data": {
      "image/png": "[encoded data removed]",
      "text/plain": [
       "<matplotlib.figure.Figure at 0x7f92f4ffe588>"
      ]
     },
     "metadata": {},
     "output_type": "display_data"
    }
   ],
   "source": [
    "points = np.array([(2, 4), (2, 6), (3, 1), (3, 5), (3, 6),\n",
    "                   (3, 7), (4, 8), (5, 8), (5, 9), (6, 7),\n",
    "                   (7, 2), (7, 7), (8, 2), (8, 4), (9, 3), (9, 4)])\n",
    "\n",
    "plt.scatter(points[:, 0], [points[:, 1]])\n",
    "plt.axis([0, 10, 0, 10])\n",
    "plt.show()"
   ]
  },
  {
   "cell_type": "markdown",
   "metadata": {},
   "source": [
    "## a)\n",
    "Use the heuristic from the lecture to determine input parameters $MinPts$ and $\\\\epsilon$ for DBSCAN\n",
    "using the Manhattan distance."
   ]
  },
  {
   "cell_type": "markdown",
   "metadata": {},
   "source": [
    "$MinPts = 2 * d - 1$ with d beeing the number of dimensions."
   ]
  },
  {
   "cell_type": "code",
   "execution_count": 35,
   "metadata": {
    "collapsed": false
   },
   "outputs": [],
   "source": [
    "def manhattan_distance(a, b):\n",
    "    return abs(b[0] - a[0]) + abs(b[1] - a[1])\n",
    "\n",
    "def k_distances(points, k=2):\n",
    "    k_distances = []\n",
    "    for p1 in points:\n",
    "        k_distances.append(np.sort([manhattan_distance(p1, p2) for p2 in points])[k])\n",
    "    return np.sort(k_distances)[::-1]"
   ]
  },
  {
   "cell_type": "code",
   "execution_count": 38,
   "metadata": {
    "collapsed": false
   },
   "outputs": [
    {
     "data": {
      "image/png": "[encoded data removed]",
      "text/plain": [
       "<matplotlib.figure.Figure at 0x7f92f50532b0>"
      ]
     },
     "metadata": {},
     "output_type": "display_data"
    }
   ],
   "source": [
    "plt.plot(k_distances(points, k=3), 'o')\n",
    "plt.axis([0, 16, 0, 6])\n",
    "plt.show()"
   ]
  },
  {
   "cell_type": "markdown",
   "metadata": {},
   "source": [
    "With this dispersion the user would choose $\\\\epsilon = 4$ or $\\\\epsilon = 3$."
   ]
  },
  {
   "cell_type": "markdown",
   "metadata": {},
   "source": [
    "## b)\n",
    "Apply DBSCAN to the given data set using the Euclidean distance, $MinPts = 4$ and $\\\\epsilon = 2.2$.\n",
    "Give the resulting clusters as sets of points and a list of all core objects."
   ]
  }
 ],
 "metadata": {
  "kernelspec": {
   "display_name": "Python 3",
   "language": "python",
   "name": "python3"
  },
  "language_info": {
   "codemirror_mode": {
    "name": "ipython",
    "version": 3
   },
   "file_extension": ".py",
   "mimetype": "text/x-python",
   "name": "python",
   "nbconvert_exporter": "python",
   "pygments_lexer": "ipython3",
   "version": "3.5.0"
  }
 },
 "nbformat": 4,
 "nbformat_minor": 0
}
