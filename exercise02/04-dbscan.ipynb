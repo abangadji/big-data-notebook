{
 "cells": [
  {
   "cell_type": "code",
   "execution_count": 43,
   "metadata": {
    "collapsed": true
   },
   "outputs": [],
   "source": [
    "import matplotlib.pyplot as plt\n",
    "import numpy as np\n",
    "import math\n",
    "%matplotlib inline"
   ]
  },
  {
   "cell_type": "markdown",
   "metadata": {},
   "source": [
    "Given the following two-dimensional data set:"
   ]
  },
  {
   "cell_type": "code",
   "execution_count": 39,
   "metadata": {
    "collapsed": false
   },
   "outputs": [
    {
     "data": {
      "image/png": "[encoded data removed]",
      "text/plain": [
       "<matplotlib.figure.Figure at 0x7f92f4ffe588>"
      ]
     },
     "metadata": {},
     "output_type": "display_data"
    }
   ],
   "source": [
    "points = np.array([(2, 4), (2, 6), (3, 1), (3, 5), (3, 6),\n",
    "                   (3, 7), (4, 8), (5, 8), (5, 9), (6, 7),\n",
    "                   (7, 2), (7, 7), (8, 2), (8, 4), (9, 3), (9, 4)])\n",
    "\n",
    "plt.scatter(points[:, 0], [points[:, 1]])\n",
    "plt.axis([0, 10, 0, 10])\n",
    "plt.show()"
   ]
  },
  {
   "cell_type": "markdown",
   "metadata": {},
   "source": [
    "## a)\n",
    "Use the heuristic from the lecture to determine input parameters $MinPts$ and $\\\\epsilon$ for DBSCAN\n",
    "using the Manhattan distance."
   ]
  },
  {
   "cell_type": "markdown",
   "metadata": {},
   "source": [
    "$MinPts = 2 * d - 1$ with d beeing the number of dimensions."
   ]
  },
  {
   "cell_type": "code",
   "execution_count": 35,
   "metadata": {
    "collapsed": false
   },
   "outputs": [],
   "source": [
    "def manhattan_distance(a, b):\n",
    "    return abs(b[0] - a[0]) + abs(b[1] - a[1])\n",
    "\n",
    "def k_distances(points, k=2):\n",
    "    k_distances = []\n",
    "    for p1 in points:\n",
    "        k_distances.append(np.sort([manhattan_distance(p1, p2) for p2 in points])[k])\n",
    "    return np.sort(k_distances)[::-1]"
   ]
  },
  {
   "cell_type": "code",
   "execution_count": 38,
   "metadata": {
    "collapsed": false,
    "scrolled": true
   },
   "outputs": [
    {
     "data": {
      "image/png": "[encoded data removed]",
      "text/plain": [
       "<matplotlib.figure.Figure at 0x7f92f50532b0>"
      ]
     },
     "metadata": {},
     "output_type": "display_data"
    }
   ],
   "source": [
    "plt.plot(k_distances(points, k=3), 'o')\n",
    "plt.axis([0, 16, 0, 6])\n",
    "plt.show()"
   ]
  },
  {
   "cell_type": "markdown",
   "metadata": {},
   "source": [
    "With this dispersion the user would choose $\\\\epsilon = 4$ or $\\\\epsilon = 3$."
   ]
  },
  {
   "cell_type": "markdown",
   "metadata": {},
   "source": [
    "---\n",
    "\n",
    "## b)\n",
    "Apply DBSCAN to the given data set using the Euclidean distance, $MinPts = 4$ and $\\\\epsilon = 2.2$.\n",
    "Give the resulting clusters as sets of points and a list of all core objects."
   ]
  },
  {
   "cell_type": "code",
   "execution_count": 41,
   "metadata": {
    "collapsed": true
   },
   "outputs": [],
   "source": [
    "def plot(cluster, core_objects):\n",
    "    core_objects = np.array(core_objects)\n",
    "    colors = plt.cm.rainbow(np.linspace(0, 1, len(cluster)))\n",
    "\n",
    "    for cluster_index, color in zip(cluster, colors):\n",
    "        points = np.array(cluster[cluster_index])\n",
    "        plt.scatter(points[:, 0], points[:, 1], color=color, s=100,\n",
    "                    label=cluster_index)\n",
    "\n",
    "    plt.scatter(core_objects[:, 0], core_objects[:, 1], marker='x', s=1000)\n",
    "    plt.legend(loc='upper left')\n",
    "    plt.axis([0, 10, 0, 10])\n",
    "    plt.show(block=False)\n",
    "    \n",
    "\n",
    "def euclidian_distance(a, b):\n",
    "    return math.sqrt(pow(a[0] - b[0], 2) + pow(a[1] - b[1], 2))\n",
    "\n",
    "\n",
    "def get_neighbors(point_a, points, epsilon):\n",
    "    distances = np.array([euclidian_distance(point_a, point_b)\n",
    "                          for point_b in points])\n",
    "    return points[distances <= epsilon]\n",
    "\n",
    "\n",
    "def dbscan(points, epsilon, minPts):\n",
    "    visited = []\n",
    "    cluster = {}\n",
    "    core_objects = []\n",
    "    cluster_index = 0\n",
    "    for point_a in points:\n",
    "        if str(point_a) in visited:\n",
    "            continue\n",
    "        visited.append(str(point_a))\n",
    "        neighbors_a = get_neighbors(point_a, points, epsilon)\n",
    "        if len(neighbors_a) < minPts:\n",
    "            # Mark as noise\n",
    "            cluster[str(point_a)] = {'cluster': 0,\n",
    "                                     'data': point_a}\n",
    "        else:\n",
    "            cluster_index += 1\n",
    "            core_objects.append(point_a)\n",
    "            cluster[str(point_a)] = {'cluster': cluster_index,\n",
    "                                     'data': point_a}\n",
    "            # Expand cluster\n",
    "            for point_b in neighbors_a:\n",
    "                if str(point_b) not in visited:\n",
    "                    visited.append(str(point_b))\n",
    "                    neighbors_b = get_neighbors(point_b, points, epsilon)\n",
    "                    if len(neighbors_b) >= minPts:\n",
    "                        neighbors_a = np.append(neighbors_a, neighbors_b)\n",
    "                if str(point_b) not in cluster:\n",
    "                    cluster[str(point_b)] = {'cluster': cluster_index,\n",
    "                                             'data': point_b}\n",
    "    # Restructure data\n",
    "    cluster_to_data = {}\n",
    "    for key, value in cluster.items():\n",
    "        if value['cluster'] not in cluster_to_data:\n",
    "            cluster_to_data[value['cluster']] = []\n",
    "        cluster_to_data[value['cluster']].append(value['data'])\n",
    "    return cluster_to_data, core_objects"
   ]
  },
  {
   "cell_type": "code",
   "execution_count": 44,
   "metadata": {
    "collapsed": false
   },
   "outputs": [
    {
     "data": {
      "image/png": "[encoded data removed]",
      "text/plain": [
       "<matplotlib.figure.Figure at 0x7f92f4fe28d0>"
      ]
     },
     "metadata": {},
     "output_type": "display_data"
    }
   ],
   "source": [
    "cluster, core_objects = dbscan(points, epsilon=2.2, minPts=4)\n",
    "plot(cluster, core_objects)"
   ]
  }
 ],
 "metadata": {
  "kernelspec": {
   "display_name": "Python 3",
   "language": "python",
   "name": "python3"
  },
  "language_info": {
   "codemirror_mode": {
    "name": "ipython",
    "version": 3
   },
   "file_extension": ".py",
   "mimetype": "text/x-python",
   "name": "python",
   "nbconvert_exporter": "python",
   "pygments_lexer": "ipython3",
   "version": "3.5.0"
  }
 },
 "nbformat": 4,
 "nbformat_minor": 0
}
