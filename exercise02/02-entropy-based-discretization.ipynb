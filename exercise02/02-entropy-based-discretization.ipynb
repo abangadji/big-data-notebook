{
 "cells": [
  {
   "cell_type": "markdown",
   "metadata": {},
   "source": [
    "# 2 Entropy-based discretization"
   ]
  },
  {
   "cell_type": "code",
   "execution_count": 11,
   "metadata": {
    "collapsed": false
   },
   "outputs": [],
   "source": [
    "import matplotlib.pyplot as plt\n",
    "import numpy as np\n",
    "import pandas as pd\n",
    "import math\n",
    "%matplotlib inline"
   ]
  },
  {
   "cell_type": "markdown",
   "metadata": {},
   "source": [
    "Entropy-based discretization is a supervised binning approach that aims at finding boundaries for discretization that keep the class labels of the resulting bins as pure as possible.\n",
    "\n",
    "Consider the following set of sensor measurements $a_i$ with class labels $c_i ∈ {OK (0), FAIL (1)}$:"
   ]
  },
  {
   "cell_type": "code",
   "execution_count": 8,
   "metadata": {
    "collapsed": false
   },
   "outputs": [
    {
     "data": {
      "text/html": [
       "<div>\n",
       "<table border=\"1\" class=\"dataframe\">\n",
       "  <thead>\n",
       "    <tr style=\"text-align: right;\">\n",
       "      <th></th>\n",
       "      <th>a</th>\n",
       "      <th>c</th>\n",
       "    </tr>\n",
       "  </thead>\n",
       "  <tbody>\n",
       "    <tr>\n",
       "      <th>0</th>\n",
       "      <td>0.1</td>\n",
       "      <td>1</td>\n",
       "    </tr>\n",
       "    <tr>\n",
       "      <th>1</th>\n",
       "      <td>0.2</td>\n",
       "      <td>1</td>\n",
       "    </tr>\n",
       "    <tr>\n",
       "      <th>2</th>\n",
       "      <td>0.8</td>\n",
       "      <td>0</td>\n",
       "    </tr>\n",
       "    <tr>\n",
       "      <th>3</th>\n",
       "      <td>0.9</td>\n",
       "      <td>0</td>\n",
       "    </tr>\n",
       "    <tr>\n",
       "      <th>4</th>\n",
       "      <td>1.0</td>\n",
       "      <td>1</td>\n",
       "    </tr>\n",
       "    <tr>\n",
       "      <th>5</th>\n",
       "      <td>4.0</td>\n",
       "      <td>0</td>\n",
       "    </tr>\n",
       "    <tr>\n",
       "      <th>6</th>\n",
       "      <td>10.0</td>\n",
       "      <td>0</td>\n",
       "    </tr>\n",
       "    <tr>\n",
       "      <th>7</th>\n",
       "      <td>50.0</td>\n",
       "      <td>0</td>\n",
       "    </tr>\n",
       "  </tbody>\n",
       "</table>\n",
       "</div>"
      ],
      "text/plain": [
       "      a  c\n",
       "0   0.1  1\n",
       "1   0.2  1\n",
       "2   0.8  0\n",
       "3   0.9  0\n",
       "4   1.0  1\n",
       "5   4.0  0\n",
       "6  10.0  0\n",
       "7  50.0  0"
      ]
     },
     "execution_count": 8,
     "metadata": {},
     "output_type": "execute_result"
    }
   ],
   "source": [
    "measurements = pd.DataFrame({'a': [0.1, 0.2, 0.8, 0.9, 1.0, 4.0, 10.0, 50.0],\n",
    "                             'c': [1, 1, 0, 0, 1, 0, 0, 0]})\n",
    "measurements"
   ]
  },
  {
   "cell_type": "markdown",
   "metadata": {},
   "source": [
    "## a)\n",
    "\n",
    "Compute the entropy for the candidate boundaries $T = 0.5, T = 0.95, T = 2.5$. Which boundary\n",
    "gives the best discretization? Use that boundary to discretize the data."
   ]
  },
  {
   "cell_type": "code",
   "execution_count": 19,
   "metadata": {
    "collapsed": false
   },
   "outputs": [
    {
     "data": {
      "text/plain": [
       "-9.207230355827608"
      ]
     },
     "execution_count": 19,
     "metadata": {},
     "output_type": "execute_result"
    }
   ],
   "source": [
    "def entropy(data):\n",
    "    values = {}\n",
    "    for key in data['c']:\n",
    "        values[key] = values.get(key, 0) + 1\n",
    "    return -1 * sum([v * math.log(v, 2) for k, v in values.items()])\n",
    "\n",
    "\n",
    "def information_gain(data, t_value):\n",
    "    index = 0\n",
    "    while(df['a'][index] <= t_value):\n",
    "        index += 1\n",
    "    intervals = (df[:index], df[index:])        \n",
    "    return sum([len(i) / len(data) * entropy(i) for i in intervals])    "
   ]
  },
  {
   "cell_type": "code",
   "execution_count": 21,
   "metadata": {
    "collapsed": false
   },
   "outputs": [
    {
     "name": "stdout",
     "output_type": "stream",
     "text": [
      "t: 0.5, I: -9.207230355827608\n",
      "t: 0.95, I: -4.377443751081735\n",
      "t: 2.5, I: -6.004887502163468\n"
     ]
    }
   ],
   "source": [
    "t_values = [0.5, 0.95, 2.5]\n",
    "\n",
    "for t_value in t_values:\n",
    "    print('t: {0}, I: {1}'.format(t_value, information_gain(measurements, t_value)))"
   ]
  },
  {
   "cell_type": "markdown",
   "metadata": {},
   "source": [
    "---\n",
    "\n",
    "## b)\n",
    "\n",
    "Describe a method to decide which candidate boundaries to test."
   ]
  }
 ],
 "metadata": {
  "kernelspec": {
   "display_name": "Python 3",
   "language": "python",
   "name": "python3"
  },
  "language_info": {
   "codemirror_mode": {
    "name": "ipython",
    "version": 3
   },
   "file_extension": ".py",
   "mimetype": "text/x-python",
   "name": "python",
   "nbconvert_exporter": "python",
   "pygments_lexer": "ipython3",
   "version": "3.5.0"
  }
 },
 "nbformat": 4,
 "nbformat_minor": 0
}
