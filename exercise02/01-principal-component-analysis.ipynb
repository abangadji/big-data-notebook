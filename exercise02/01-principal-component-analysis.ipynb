{
 "cells": [
  {
   "cell_type": "markdown",
   "metadata": {},
   "source": [
    "# 1 - Principal Component Analysis"
   ]
  },
  {
   "cell_type": "markdown",
   "metadata": {},
   "source": [
    "Consider the following data set with five examples (N = 5) and two attributes (D = 2):\n",
    "\n",
    "$$\n",
    "A = \\begin{bmatrix}2 & 2 \\\\ 3 & 3 \\\\ 3 & 2 \\\\ 4 & 3 \\\\ 5 & 5 \\end{bmatrix}\n",
    "$$\n"
   ]
  },
  {
   "cell_type": "markdown",
   "metadata": {
    "collapsed": true
   },
   "source": [
    "## a)\n",
    "\n",
    "Perform PCA on this data set. You have to center the data, compute the covariance matrix of the centered data, and find the eigenvalues and eigenvectors of the covariance matrix (the principal components). Use the eigenvector matrix to perform the basis transformation, and finally reduce the dimensionality of the data by removing one of the two dimensions from the transformed data set.\n",
    "\n",
    "---"
   ]
  },
  {
   "cell_type": "markdown",
   "metadata": {},
   "source": [
    "### I. Normalization\n",
    "\n",
    "**Center of Mass**: $ \\begin{bmatrix}3.4 & 3\\end{bmatrix} $\n",
    "\n",
    "$$\n",
    "\\widetilde{A} = \\begin{bmatrix}-1.4 & -1 \\\\ -0.4 & 0 \\\\ -0.4 & -1 \\\\ 0.6 & 0 \\\\ 1.6 & 2\\end{bmatrix}\n",
    "$$"
   ]
  },
  {
   "cell_type": "markdown",
   "metadata": {},
   "source": [
    "### II. Covariance  Matrix\n",
    "\n",
    "$$ cov(X) = \\frac{X^T X}{N} $$\n",
    "\n",
    "$$\n",
    "\\begin{align*}\n",
    "cov(\\widetilde{A}) &= \\begin{bmatrix}5.2 & 5 \\\\ 5 & 6\\end{bmatrix} * 5^{-1} \\\\\n",
    "&= \\begin{bmatrix}1.04 & 1 \\\\ 1 & 1.2\\end{bmatrix}\n",
    "\\end{align*}\n",
    "$$"
   ]
  },
  {
   "cell_type": "markdown",
   "metadata": {},
   "source": [
    "### III. Eigenvalues\n",
    "\n",
    "$\\lambda$ is Eigenvalue of A iff $det(\\lambda id - A) = 0$\n",
    "\n",
    "$$\n",
    "\\begin{align*}\n",
    "det(\\lambda \\begin{bmatrix}1 & 0 \\\\ 0 & 1\\end{bmatrix} - \\begin{bmatrix}1.04 & 1 \\\\ 1 & 1.2\\end{bmatrix} &= 0 \\\\\n",
    "det(\\begin{bmatrix}\\lambda - 1.04 & -1 \\\\ -1 & \\lambda - 1.2\\end{bmatrix}) &= 0 \\\\\n",
    "(\\lambda - 1.04)(\\lambda - 1.2) -1 &= 0 \\\\\n",
    "\\lambda^2 - 2.24\\lambda + 0.248 &= 0 \\\\\n",
    "\\Rightarrow \\lambda_1 = 2.123 \\\\\n",
    "\\Rightarrow \\lambda_2 = 0.117\n",
    "\\end{align*}\n",
    "$$"
   ]
  },
  {
   "cell_type": "markdown",
   "metadata": {},
   "source": [
    "### IV. Eigenvectors\n",
    "\n",
    "#### 1) $\\lambda_1 = 2.123$\n",
    "\n",
    "$$\n",
    "\\begin{align*}\n",
    "&E_{\\lambda_1} = N(\\begin{bmatrix}2.123 & 0 \\\\ 0 & 2.123\\end{bmatrix} - \\begin{bmatrix}1.04 & 1 \\\\ 1 & 1.2\\end{bmatrix}) = N(\\begin{bmatrix}1.083 & -1 \\\\ -1 & 0.923\\end{bmatrix}) \\\\\n",
    "&\\Rightarrow \\begin{bmatrix}1.083 & -1 \\\\ -1 & 0.923\\end{bmatrix} \\vec{v} = \\vec{0} \\\\\n",
    "&\\to \\begin{bmatrix}1.083 & -1 \\\\ -1 & -0.077\\end{bmatrix} && \\text{second + first} \\\\\n",
    "&\\to \\begin{bmatrix}1 & -0.923 \\\\ 0.083 & -0.077\\end{bmatrix} && \\text{top / 1.083} \\\\\n",
    "&\\Rightarrow \\begin{bmatrix}1 & -0.923 \\\\ 0.083 & -0.077\\end{bmatrix} \\begin{bmatrix}v_1\\\\ v_2\\end{bmatrix} = \\vec{0} && \\text{Reduced echelon form} \\\\\n",
    "&v_1 - 0.923 v_2 = 0 \\\\\n",
    "&v_2 = t \\\\\n",
    "&E_{\\lambda_1} = \\{\\begin{bmatrix}v_1\\\\ v_2\\end{bmatrix} = t\\begin{bmatrix}0.923\\\\ 1\\end{bmatrix}\\}\n",
    "\\end{align*}\n",
    "$$\n",
    "\n",
    "\n",
    "#### 2) $\\lambda_2 = 0.117$\n",
    "\n",
    "$$\n",
    "\\begin{align*}\n",
    "&E_{\\lambda_1} = N(\\begin{bmatrix}0.117 & 0 \\\\ 0 & 0.117\\end{bmatrix} - \\begin{bmatrix}1.04 & 1 \\\\ 1 & 1.2\\end{bmatrix}) = N(\\begin{bmatrix}-0.923 & -1 \\\\ -1 & -1.083\\end{bmatrix}) \\\\\n",
    "&\\Rightarrow \\begin{bmatrix}-0.923 & -1 \\\\ -1 & -1.083\\end{bmatrix} \\vec{v} = \\vec{0} \\\\\n",
    "&\\to \\begin{bmatrix}-0.923 & -1 \\\\ -1.923 & -2.083\\end{bmatrix} && \\text{second + first} \\\\\n",
    "&\\to \\begin{bmatrix}1 & 1.083 \\\\ -1.923 & -2.083\\end{bmatrix} && \\text{top / 1.083} \\\\\n",
    "&\\Rightarrow \\begin{bmatrix}1 & 1.083 \\\\ -1.923 & -2.083\\end{bmatrix} \\begin{bmatrix}v_1\\\\ v_2\\end{bmatrix} = \\vec{0} && \\text{Reduced echelon form} \\\\\n",
    "&v_1 - 1.083 v_2 = 0 \\\\\n",
    "&v_2 = t \\\\\n",
    "&E_{\\lambda_2} = \\{\\begin{bmatrix}v_1\\\\ v_2\\end{bmatrix} = t\\begin{bmatrix}1.083\\\\ 1\\end{bmatrix}\\}\n",
    "\\end{align*}\n",
    "$$"
   ]
  },
  {
   "cell_type": "markdown",
   "metadata": {},
   "source": [
    "### V. PC\n",
    "\n",
    "$$\n",
    "\\begin{align*}\n",
    "&\\vec{\\lambda} = \\begin{bmatrix}2.123 & 0.117\\end{bmatrix} \\\\\n",
    "&E = \\begin{bmatrix}0.923 & 1.083 \\\\ 1 & 1\\end{bmatrix},\\; E^T = \\begin{bmatrix}0.923 & 1 \\\\ 1.083 & 1\\end{bmatrix} \\\\\n",
    "&\\widetilde{A}^T = \\begin{bmatrix}-1.4 & -0.4 & -0.4 & 0.6 & 1.6 \\\\ -1 & 0 & -1 & 0 & 2\\end{bmatrix}\n",
    "\\end{align*}\n",
    "$$\n",
    "\n",
    "$$\n",
    "\\begin{align*}\n",
    "&E^T \\widetilde{A}^T = \\begin{bmatrix}-2.292 & -0.369 & -1.369 & 0.554 & 3.4768 \\\\ -2.516 & -0.433 & -1.433 & 0.65 & 3.733\\end{bmatrix}\n",
    "\\end{align*}\n",
    "$$\n",
    "\n",
    "$$\n",
    "\\begin{align*}\n",
    "&\\text{Choose n eigenvector/dimension with highest eigenvalue:} \\Rightarrow \\lambda_1 \\\\\n",
    "&E^T \\widetilde{A}^T = \\begin{bmatrix}-2.292 & -0.369 & -1.369 & 0.554 & 3.4768\\end{bmatrix}\n",
    "\\end{align*}\n",
    "$$"
   ]
  }
 ],
 "metadata": {
  "kernelspec": {
   "display_name": "Python 3",
   "language": "python",
   "name": "python3"
  },
  "language_info": {
   "codemirror_mode": {
    "name": "ipython",
    "version": 3
   },
   "file_extension": ".py",
   "mimetype": "text/x-python",
   "name": "python",
   "nbconvert_exporter": "python",
   "pygments_lexer": "ipython3",
   "version": "3.5.1"
  }
 },
 "nbformat": 4,
 "nbformat_minor": 0
}
