{
 "cells": [
  {
   "cell_type": "markdown",
   "metadata": {},
   "source": [
    "# 2 k-Nearest neighbor classifiaction"
   ]
  },
  {
   "cell_type": "markdown",
   "metadata": {},
   "source": [
    "## a)\n",
    "Let $ O \\subseteq D $ be a data set from the domain $ D $ and $ q \\in D $. Furthermore, let $ d : D \\times D \\to R $ be some distance function. Give a concise mathematical definition for $ kNN(q, O) $, i.e. the set of k-nearest neighbors of $ q $ in $ O $."
   ]
  },
  {
   "cell_type": "markdown",
   "metadata": {},
   "source": [
    "$$\n",
    "kNN(q,O) = \\{K \\subseteq 0 \\; \\wedge \\; \\left\\vert{K}\\right\\vert \\geq 1 \\mid \\forall o \\in O \\setminus K \\mid \\forall k \\in K : d(o,q) \\geq d(k,q)\\}\n",
    "$$"
   ]
  },
  {
   "cell_type": "markdown",
   "metadata": {},
   "source": [
    "## b)\n",
    "\n",
    "We want to use the following data set for 3-NN classification with the Manhattan distance. Object colors indicate class membership. Compute the decision sets for the data points **q1 = (0, 2)** and **q2 = (4, 4)** using your definition from (a)."
   ]
  },
  {
   "cell_type": "code",
   "execution_count": 14,
   "metadata": {
    "collapsed": false
   },
   "outputs": [
    {
     "data": {
      "image/png": "[encoded data removed]",
      "text/plain": [
       "<matplotlib.figure.Figure at 0x7fa0bb707cf8>"
      ]
     },
     "metadata": {},
     "output_type": "display_data"
    }
   ],
   "source": [
    "import matplotlib.pyplot as plt\n",
    "import numpy as np\n",
    "import math\n",
    "%matplotlib inline\n",
    "\n",
    "points = np.array([[0, 6], [0, 4], [1, 5], [2, 1], [2, 4], [3, 0], [3, 5],\n",
    "                   [1, 3], [2, 6], [3, 3], [5, 2], [5, 4]])\n",
    "partitions = np.array([0, 0, 0, 0, 0, 0, 0, 1, 1, 1, 1, 1])\n",
    "\n",
    "colors = partitions / partitions.max()\n",
    "plt.axis([0, 7, 0, 7])\n",
    "plt.scatter(points[:, 0], points[:, 1], c=colors, s=100)\n",
    "plt.grid()\n",
    "plt.show()"
   ]
  },
  {
   "cell_type": "markdown",
   "metadata": {},
   "source": [
    "$ kNN(q_1, O) = \\{ (1/3), (2/1), (0/4) \\} $\n",
    "\n",
    "$ kNN(q_2, O) = \\{ (3/3), (5/4), (3/5), (2/4) \\} $"
   ]
  },
  {
   "cell_type": "markdown",
   "metadata": {},
   "source": [
    "## c)\n",
    "\n",
    "Classify q1 and q2 using (i) the simple majority criterion as decision rule, (ii) the weighted majority criterion with a-priori class probabilities as weight, (iii) the weighted majority criterion with reciprocal square distances as weight."
   ]
  },
  {
   "cell_type": "markdown",
   "metadata": {},
   "source": [
    "|  | I | II | III |\n",
    "|-:|:-:|:--:|:---:|\n",
    "| C(q1) | B | B | B |\n",
    "| C(q2) | B/R | B/R | B/R |"
   ]
  }
 ],
 "metadata": {
  "kernelspec": {
   "display_name": "Python 3",
   "language": "python",
   "name": "python3"
  },
  "language_info": {
   "codemirror_mode": {
    "name": "ipython",
    "version": 3
   },
   "file_extension": ".py",
   "mimetype": "text/x-python",
   "name": "python",
   "nbconvert_exporter": "python",
   "pygments_lexer": "ipython3",
   "version": "3.5.1"
  }
 },
 "nbformat": 4,
 "nbformat_minor": 0
}
