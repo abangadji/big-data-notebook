{
 "cells": [
  {
   "cell_type": "markdown",
   "metadata": {},
   "source": [
    "# 3 Bayes Classification"
   ]
  },
  {
   "cell_type": "markdown",
   "metadata": {},
   "source": [
    "The following plot shows a two-dimensional dataset that has been discretized in both dimensions. The X attribute takes three possible values i, k and l, while the Y attribute has a domain of four\n",
    "different values i, k, l and m. Each object belongs either to the class C1 (red squares) or C2 (blue diamonds)."
   ]
  },
  {
   "cell_type": "markdown",
   "metadata": {},
   "source": [
    "<img src=\"http://i.imgur.com/vHn2d1q.png\" alt=\"ScatterPlot\" style=\"width: 300px;\"/>"
   ]
  },
  {
   "cell_type": "markdown",
   "metadata": {},
   "source": [
    "## a)\n",
    "\n",
    "Compute the joint probability distribution P(X, Y | C), without any independence assumptions.\n",
    "\n",
    "### P(X,Y|C1)\n",
    "\n",
    "|   | i | k | l | b) P(Y&#124;C1) |\n",
    "|:-:|:-:|:-:|:-:|:-------:|\n",
    "| m | 1/4 | 0 | 0 | 1/4 |\n",
    "| l | 1/8 | 0 | 0 | 1/8 |\n",
    "| k | 0 | 3/8 | 0 | 3/8 |\n",
    "| i | 0 | 0 | 1/4 | 1/4 |\n",
    "| b) P(X&#124;C1) | 3/8 | 3/8 | 1/4 | 1 |\n",
    "\n",
    "---\n",
    "\n",
    "### P(X,Y|C2)\n",
    "\n",
    "|   | i | k | l | b) P(Y&#124;C2) |\n",
    "|:-:|:-:|:-:|:-:|:-------:|\n",
    "| m | 0 | 0 | 0 | 0 |\n",
    "| l | 1/8 | 1/2 | 0 | 5/8 |\n",
    "| k | 0 | 1/8 | 1/8 | 3/4 |\n",
    "| i | 0 | 0 | 1/8 | 1/8 |\n",
    "| b) P(X&#124;C2) | 1/8 | 5/8 | 1/4 | 1 |"
   ]
  },
  {
   "cell_type": "markdown",
   "metadata": {},
   "source": [
    "## c)\n",
    "\n",
    "Assume the two dimensions X and Y are conditionally independent given the class assignments. Predict class labels for the two data points **q1 = (i, k)** and **q2 = (k, m)** using the naive Bayes classifier."
   ]
  },
  {
   "cell_type": "markdown",
   "metadata": {},
   "source": [
    "$$ p(o_1, ... , o_d \\mid c_j) = \\prod_{i=1}^{d} p(o_i \\mid c_j) $$\n",
    "\n",
    "### I.\n",
    "\n",
    "$$\n",
    "\\begin{align*}\n",
    "\\Rightarrow p( \\{i,k\\} \\mid c_1) &= p(i \\mid c_1) * p(k \\mid c_1) \\\\\n",
    "&= \\frac{3}{8} * \\frac{3}{8} = \\frac{9}{64} = 0.141\n",
    "\\end{align*}\n",
    "$$\n",
    "\n",
    "$$\n",
    "\\begin{align*}\n",
    "\\Rightarrow p( \\{i,k\\} \\mid c_2) &= p(i \\mid c_2) * p(k \\mid c_2) \\\\\n",
    "&= \\frac{1}{8} * \\frac{2}{8} = \\frac{1}{32} = 0.031\n",
    "\\end{align*}\n",
    "$$\n",
    "\n",
    "$$\n",
    "\\begin{align*}\n",
    "\\Rightarrow K_{naive} ( \\{i,k\\} = c_1\n",
    "\\end{align*}\n",
    "$$\n",
    "\n",
    "### II.\n",
    "\n",
    "$$\n",
    "\\begin{align*}\n",
    "\\Rightarrow p( \\{k,m\\} \\mid c_1) &= p(k \\mid c_1) * p(m \\mid c_1) \\\\\n",
    "&= \\frac{3}{8} * \\frac{2}{8} = \\frac{3}{32} = 0.093\n",
    "\\end{align*}\n",
    "$$\n",
    "\n",
    "$$\n",
    "\\begin{align*}\n",
    "\\Rightarrow p( \\{k,m\\} \\mid c_2) &= p(k \\mid c_2) * p(m \\mid c_2) \\\\\n",
    "&= \\frac{5}{8} * \\frac{0}{8} = 0\n",
    "\\end{align*}\n",
    "$$\n",
    "\n",
    "$$\n",
    "\\begin{align*}\n",
    "\\Rightarrow K_{naive} ( \\{k,m\\} = c_1\n",
    "\\end{align*}\n",
    "$$"
   ]
  },
  {
   "cell_type": "markdown",
   "metadata": {},
   "source": [
    "## d)\n",
    "\n",
    "Briefly describe how objects could be classified, if the attributes were not categorical but continuous."
   ]
  },
  {
   "cell_type": "markdown",
   "metadata": {},
   "source": [
    "One approach would be to discretize the data by using a binning technique."
   ]
  }
 ],
 "metadata": {
  "kernelspec": {
   "display_name": "Python 3",
   "language": "python",
   "name": "python3"
  },
  "language_info": {
   "codemirror_mode": {
    "name": "ipython",
    "version": 3
   },
   "file_extension": ".py",
   "mimetype": "text/x-python",
   "name": "python",
   "nbconvert_exporter": "python",
   "pygments_lexer": "ipython3",
   "version": "3.5.1"
  }
 },
 "nbformat": 4,
 "nbformat_minor": 0
}
