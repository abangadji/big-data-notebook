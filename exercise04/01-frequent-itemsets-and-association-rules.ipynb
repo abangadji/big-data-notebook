{
 "cells": [
  {
   "cell_type": "markdown",
   "metadata": {},
   "source": [
    "# 1 Frequent Itemsets and Association Rules"
   ]
  },
  {
   "cell_type": "markdown",
   "metadata": {},
   "source": [
    "Let D be some transaction database and I be a set of items. Furthermore, let $ X \\subseteq I $, $ Y \\subseteq X $ and\n",
    "$ Z \\subseteq Y $ be itemsets. The support of an itemset $ X \\subseteq I in D $ is defined as:\n",
    "\n",
    "$$\n",
    "support(X) = \\frac{ \\left\\vert{ \\{ T \\in D \\mid X \\subseteq T \\} }\\right\\vert}{\\left\\vert{D}\\right\\vert}\n",
    "$$\n",
    "\n",
    "Prove the following statements:"
   ]
  },
  {
   "cell_type": "markdown",
   "metadata": {},
   "source": [
    "## a)\n",
    "\n",
    "$ support(Y) \\geq support(X) $\n",
    "\n",
    "---\n",
    "\n",
    "$\n",
    "\\frac{ \\left\\vert{ \\{ T \\in D \\mid Y \\subseteq T \\} }\\right\\vert}{\\left\\vert{D}\\right\\vert} \\geq \\frac{ \\left\\vert{ \\{ T \\in D \\mid X \\subseteq T \\} }\\right\\vert}{\\left\\vert{D}\\right\\vert} \\wedge Y \\subseteq X \\subseteq I\n",
    "$\n",
    "\n",
    "From $ Y \\subseteq X $ follows: $ \\left\\vert{Y}\\right\\vert \\geq \\left\\vert{X}\\right\\vert $ because every itemset from Y is contained in X."
   ]
  },
  {
   "cell_type": "markdown",
   "metadata": {},
   "source": [
    "## b)\n",
    "\n",
    "$ conf(Z \\Rightarrow (X-Z)) \\leq conf(Y \\Rightarrow (X-Y)) $\n",
    "\n",
    "---\n",
    "\n",
    "$ conf(X \\Rightarrow Y) = \\frac{supp(X \\cup Y}{supp(X)} $\n",
    "\n",
    "$ \\wedge Z \\subseteq Y \\subseteq X \\subseteq I $\n",
    "\n",
    "---\n",
    "\n",
    "$ \\frac{supp(Z \\cup (X-Z)}{supp(Z)} \\leq \\frac{supp(Y \\cup (X-Y)}{supp(Y)} $\n",
    "\n",
    "**I)** $ supp(Z) \\geq supp(Y) $\n",
    "\n",
    "**II)** $ \\{Z \\cup (X-Z)\\} = \\{X\\} = \\{Y \\cup (X-Y)\\} $\n",
    "\n",
    "$ \\Rightarrow \\frac{supp(X)}{supp(Z)} \\leq \\frac{supp(X)}{supp(Y)} $"
   ]
  }
 ],
 "metadata": {
  "kernelspec": {
   "display_name": "Python 3",
   "language": "python",
   "name": "python3"
  },
  "language_info": {
   "codemirror_mode": {
    "name": "ipython",
    "version": 3
   },
   "file_extension": ".py",
   "mimetype": "text/x-python",
   "name": "python",
   "nbconvert_exporter": "python",
   "pygments_lexer": "ipython3",
   "version": "3.5.1"
  }
 },
 "nbformat": 4,
 "nbformat_minor": 0
}
