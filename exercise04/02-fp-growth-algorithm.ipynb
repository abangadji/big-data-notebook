{
 "cells": [
  {
   "cell_type": "markdown",
   "metadata": {},
   "source": [
    "# 2 FP-growth Algorithm"
   ]
  },
  {
   "cell_type": "markdown",
   "metadata": {},
   "source": [
    "Consider the following database with four transactions.\n",
    "\n",
    "| TID | date | items |\n",
    "|:---:|:----:|:------|\n",
    "| T1 | 2015-10-15 | K, A, D, B |\n",
    "| T2 | 2015-10-15 | D, A, C, E, B |\n",
    "| T3 | 2015-10-19 | C, A, B, E |\n",
    "| T4 | 2015-10-22 | B, A, D |\n",
    "\n",
    "Find all frequent itemsets using the FP-growth algorithm with minSup = 60%."
   ]
  },
  {
   "cell_type": "markdown",
   "metadata": {},
   "source": [
    "| TID | items | feq. items |\n",
    "|:---:|-------|------------|\n",
    "| T1 | {K, A, D, B} | {A, B, D} |\n",
    "| T2 | {C, A, C, E, B} | {A, B, D} |\n",
    "| T3 | {C, A, B, E} | {A, B} |\n",
    "| T4 | {B, A, D} | {A, B, D} |"
   ]
  }
 ],
 "metadata": {
  "kernelspec": {
   "display_name": "Python 3",
   "language": "python",
   "name": "python3"
  },
  "language_info": {
   "codemirror_mode": {
    "name": "ipython",
    "version": 3
   },
   "file_extension": ".py",
   "mimetype": "text/x-python",
   "name": "python",
   "nbconvert_exporter": "python",
   "pygments_lexer": "ipython3",
   "version": "3.5.1"
  }
 },
 "nbformat": 4,
 "nbformat_minor": 0
}
