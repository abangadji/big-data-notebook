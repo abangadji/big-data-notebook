{
 "cells": [
  {
   "cell_type": "markdown",
   "metadata": {},
   "source": [
    "# 3 Apriori Algorithm and Association Rule Mining\n",
    "\n",
    "Consider the database from Exercise 2 again.\n",
    "\n",
    "| TID | date | items |\n",
    "|:---:|:----:|:------|\n",
    "| T1 | 2015-10-15 | K, A, D, B |\n",
    "| T2 | 2015-10-15 | D, A, C, E, B |\n",
    "| T3 | 2015-10-19 | C, A, B, E |\n",
    "| T4 | 2015-10-22 | B, A, D |"
   ]
  },
  {
   "cell_type": "markdown",
   "metadata": {},
   "source": [
    "## a)\n",
    "\n",
    "Find all frequent itemsets using the Apriori algorithm with minSup = 60%.\n",
    "\n",
    "**Frequent:**\n",
    "\n",
    "|  | count | supp |\n",
    "|--|:-----:|------|\n",
    "| {A} | 4 | 1 |\n",
    "| {B} | 4 | 1 |\n",
    "| {D} | 3 | 0.75 |\n",
    "| {A,B} | 4 | 1 |\n",
    "| {A,D} | 3 | 0.75 |\n",
    "| {B,D} | 3 | 0.75 |\n",
    "| {A,B,D} | 3 | 0.75 |"
   ]
  },
  {
   "cell_type": "markdown",
   "metadata": {},
   "source": [
    "## b)\n",
    "\n",
    "List all strong association rules with minSup = 60% and minConf = 80%."
   ]
  },
  {
   "cell_type": "markdown",
   "metadata": {},
   "source": [
    "## c)\n",
    "\n",
    "Compute the correlation between items D and E.\n",
    "\n",
    "$ corr_{D,E} = \\frac{P(D \\mid E)}{P(D)} = \\frac{P(E \\mid D)}{P(E)} $\n",
    "\n",
    "$ P(E \\mid D) = \\frac{P(E \\cap D)}{P(D)} = \\frac{0.25}{0.75} = \\frac{1}{3} $\n",
    "\n",
    "$ \\frac{P(E \\mid D)}{P(E)} = \\frac{\\frac{1}{3}}{0.5} = \\frac{2}{3} = 0.67 $"
   ]
  }
 ],
 "metadata": {
  "kernelspec": {
   "display_name": "Python 3",
   "language": "python",
   "name": "python3"
  },
  "language_info": {
   "codemirror_mode": {
    "name": "ipython",
    "version": 3
   },
   "file_extension": ".py",
   "mimetype": "text/x-python",
   "name": "python",
   "nbconvert_exporter": "python",
   "pygments_lexer": "ipython3",
   "version": "3.5.1"
  }
 },
 "nbformat": 4,
 "nbformat_minor": 0
}
